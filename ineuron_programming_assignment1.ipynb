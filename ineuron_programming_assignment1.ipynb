{
  "nbformat": 4,
  "nbformat_minor": 0,
  "metadata": {
    "colab": {
      "provenance": [],
      "authorship_tag": "ABX9TyP1bViiuMuzjvyFR2hdcryy",
      "include_colab_link": true
    },
    "kernelspec": {
      "name": "python3",
      "display_name": "Python 3"
    },
    "language_info": {
      "name": "python"
    }
  },
  "cells": [
    {
      "cell_type": "markdown",
      "metadata": {
        "id": "view-in-github",
        "colab_type": "text"
      },
      "source": [
        "<a href=\"https://colab.research.google.com/github/ankitjainkj/ineuronassignment1/blob/main/ineuron_programming_assignment1.ipynb\" target=\"_parent\"><img src=\"https://colab.research.google.com/assets/colab-badge.svg\" alt=\"Open In Colab\"/></a>"
      ]
    },
    {
      "cell_type": "markdown",
      "source": [
        "Q 1) Write a Python program to print \"Hello Python\"?"
      ],
      "metadata": {
        "id": "dvHCQybGFgDZ"
      }
    },
    {
      "cell_type": "code",
      "source": [
        "print(\"Hello Python\")"
      ],
      "metadata": {
        "colab": {
          "base_uri": "https://localhost:8080/"
        },
        "id": "vKLxTESTFsN6",
        "outputId": "5758cc8f-245d-4365-edf4-9672242a40fd"
      },
      "execution_count": 1,
      "outputs": [
        {
          "output_type": "stream",
          "name": "stdout",
          "text": [
            "Hello Python\n"
          ]
        }
      ]
    },
    {
      "cell_type": "code",
      "source": [],
      "metadata": {
        "id": "itrigGqGFwip"
      },
      "execution_count": null,
      "outputs": []
    },
    {
      "cell_type": "markdown",
      "source": [
        "Q2) Write a python program to do airthmatic operations addition and division?"
      ],
      "metadata": {
        "id": "RyJZORzlF2rM"
      }
    },
    {
      "cell_type": "code",
      "source": [
        "a = int(input(\"Enter a first number\"))\n",
        "b = int(input(\"Enter a second number\"))\n",
        "addition = a+b\n",
        "division = a/b"
      ],
      "metadata": {
        "colab": {
          "base_uri": "https://localhost:8080/"
        },
        "id": "9k3PKASRGDOS",
        "outputId": "7bf81343-ded6-4c2a-ccd1-cee33789e014"
      },
      "execution_count": 6,
      "outputs": [
        {
          "name": "stdout",
          "output_type": "stream",
          "text": [
            "Enter a first number12\n",
            "Enter a second number24\n"
          ]
        }
      ]
    },
    {
      "cell_type": "code",
      "source": [
        "print(addition)"
      ],
      "metadata": {
        "colab": {
          "base_uri": "https://localhost:8080/"
        },
        "id": "4EJM6iQ1GcuK",
        "outputId": "05cf071c-0987-4bc2-f184-117fe6b4f3aa"
      },
      "execution_count": 7,
      "outputs": [
        {
          "output_type": "stream",
          "name": "stdout",
          "text": [
            "36\n"
          ]
        }
      ]
    },
    {
      "cell_type": "code",
      "source": [
        "print(division)"
      ],
      "metadata": {
        "colab": {
          "base_uri": "https://localhost:8080/"
        },
        "id": "yaBXSvKqGipi",
        "outputId": "99722213-51e1-4d36-8dcd-81e9443e2810"
      },
      "execution_count": 8,
      "outputs": [
        {
          "output_type": "stream",
          "name": "stdout",
          "text": [
            "0.5\n"
          ]
        }
      ]
    },
    {
      "cell_type": "markdown",
      "source": [
        "Q3) Write a python program to find area of triangle?\n"
      ],
      "metadata": {
        "id": "1eV-jQ-AGzY3"
      }
    },
    {
      "cell_type": "code",
      "source": [
        "b = int(input(\"Enter a base in cm\"))\n",
        "h= int(input(\"Enter a height in cm\"))\n",
        "area= b*h/2\n",
        "print(area)"
      ],
      "metadata": {
        "colab": {
          "base_uri": "https://localhost:8080/"
        },
        "id": "cQo14Kd7HMWa",
        "outputId": "aff7d23d-6f69-4541-bd92-df9f6dc2ed68"
      },
      "execution_count": 9,
      "outputs": [
        {
          "output_type": "stream",
          "name": "stdout",
          "text": [
            "Enter a base in cm12\n",
            "Enter a height in cm11\n",
            "66.0\n"
          ]
        }
      ]
    },
    {
      "cell_type": "markdown",
      "source": [
        "Q4) Write a python code to swap two variables?"
      ],
      "metadata": {
        "id": "2VGqG-PEIVNh"
      }
    },
    {
      "cell_type": "code",
      "source": [
        "a= input(\"enter a variable a....\")\n",
        "b= input(\"Enter a variable b.....\")\n",
        "a,b= b,a\n",
        "print(a)\n",
        "print(b)\n"
      ],
      "metadata": {
        "colab": {
          "base_uri": "https://localhost:8080/"
        },
        "id": "7T17oD8UIb8t",
        "outputId": "0c9c66f9-1478-467a-882c-b9e5da0131f4"
      },
      "execution_count": 14,
      "outputs": [
        {
          "output_type": "stream",
          "name": "stdout",
          "text": [
            "enter a variable a....Sonu\n",
            "Enter a variable b.....Monu\n",
            "Monu\n",
            "Sonu\n"
          ]
        }
      ]
    },
    {
      "cell_type": "markdown",
      "source": [
        "Q5) Write a python program to generate random variable?\n"
      ],
      "metadata": {
        "id": "pXLGbsydJh95"
      }
    },
    {
      "cell_type": "code",
      "source": [
        "import random\n",
        "n= random.random()\n",
        "print(n)"
      ],
      "metadata": {
        "colab": {
          "base_uri": "https://localhost:8080/"
        },
        "id": "CjEBHmyKJps0",
        "outputId": "95acb17f-40bc-490e-ddc1-dab9bdc53e31"
      },
      "execution_count": 15,
      "outputs": [
        {
          "output_type": "stream",
          "name": "stdout",
          "text": [
            "0.4950790382957019\n"
          ]
        }
      ]
    }
  ]
}