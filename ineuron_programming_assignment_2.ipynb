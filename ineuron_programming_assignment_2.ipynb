{
  "nbformat": 4,
  "nbformat_minor": 0,
  "metadata": {
    "colab": {
      "provenance": [],
      "authorship_tag": "ABX9TyPtpl8OMopZegEbYZcwlJYE",
      "include_colab_link": true
    },
    "kernelspec": {
      "name": "python3",
      "display_name": "Python 3"
    },
    "language_info": {
      "name": "python"
    }
  },
  "cells": [
    {
      "cell_type": "markdown",
      "metadata": {
        "id": "view-in-github",
        "colab_type": "text"
      },
      "source": [
        "<a href=\"https://colab.research.google.com/github/ankitjainkj/ineuronassignment1/blob/main/ineuron_programming_assignment_2.ipynb\" target=\"_parent\"><img src=\"https://colab.research.google.com/assets/colab-badge.svg\" alt=\"Open In Colab\"/></a>"
      ]
    },
    {
      "cell_type": "markdown",
      "source": [
        "Q) Write a python code to convert kilometer to mile?\n"
      ],
      "metadata": {
        "id": "8DAO268oR09L"
      }
    },
    {
      "cell_type": "code",
      "source": [
        "kilometer= float(input(\"enter a value in kilometer\"))\n",
        "miles = kilometer*0.621371\n",
        "print(\"value of miles\", miles)\n"
      ],
      "metadata": {
        "colab": {
          "base_uri": "https://localhost:8080/"
        },
        "id": "l1g187CxR-xN",
        "outputId": "e0e93d71-2125-4839-a729-df311792bfbb"
      },
      "execution_count": 2,
      "outputs": [
        {
          "output_type": "stream",
          "name": "stdout",
          "text": [
            "enter a value in kilometer12.4\n",
            "value of miles 7.7050004\n"
          ]
        }
      ]
    },
    {
      "cell_type": "code",
      "source": [],
      "metadata": {
        "id": "f_-G1jmLSt5j"
      },
      "execution_count": null,
      "outputs": []
    },
    {
      "cell_type": "markdown",
      "source": [
        "Q) Write a python code to convert celsius to Fahrenheit?"
      ],
      "metadata": {
        "id": "_PSZe2k_TNxG"
      }
    },
    {
      "cell_type": "code",
      "source": [
        "celsius= int(input(\"enter a value in celsius\"))\n",
        "fahrenheit= (celsius*1.8)+32\n",
        "print(\"value in fahrenheit\", fahrenheit)"
      ],
      "metadata": {
        "colab": {
          "base_uri": "https://localhost:8080/"
        },
        "id": "Na6NVVhdTf37",
        "outputId": "d366aeca-1580-46cd-beef-0118c1b477d4"
      },
      "execution_count": 4,
      "outputs": [
        {
          "output_type": "stream",
          "name": "stdout",
          "text": [
            "enter a value in celsius30\n",
            "value in fahrenheit 86.0\n"
          ]
        }
      ]
    },
    {
      "cell_type": "code",
      "source": [],
      "metadata": {
        "id": "JfY7fmRRUpTF"
      },
      "execution_count": null,
      "outputs": []
    },
    {
      "cell_type": "markdown",
      "source": [
        "Q) Write a python code to display calender?\n"
      ],
      "metadata": {
        "id": "LeUalsfIU1C3"
      }
    },
    {
      "cell_type": "code",
      "source": [
        "import calendar\n",
        "yea = int(input(\"enter a year\"))\n",
        "mon= int(input(\"enter a month\"))\n",
        "print(calendar.month(yea, mon))"
      ],
      "metadata": {
        "colab": {
          "base_uri": "https://localhost:8080/"
        },
        "id": "tP25NZtuU_R_",
        "outputId": "fb947281-5840-4704-c413-981c70a06504"
      },
      "execution_count": 5,
      "outputs": [
        {
          "output_type": "stream",
          "name": "stdout",
          "text": [
            "enter a year2022\n",
            "enter a month11\n",
            "   November 2022\n",
            "Mo Tu We Th Fr Sa Su\n",
            "    1  2  3  4  5  6\n",
            " 7  8  9 10 11 12 13\n",
            "14 15 16 17 18 19 20\n",
            "21 22 23 24 25 26 27\n",
            "28 29 30\n",
            "\n"
          ]
        }
      ]
    },
    {
      "cell_type": "code",
      "source": [],
      "metadata": {
        "id": "XTDQEfYeWWRg"
      },
      "execution_count": null,
      "outputs": []
    },
    {
      "cell_type": "markdown",
      "source": [
        "Q) Write a python code to swap a two variable without using temp ?"
      ],
      "metadata": {
        "id": "VOiEaWeZXkf3"
      }
    },
    {
      "cell_type": "code",
      "source": [
        "a= 12\n",
        "b= 18\n",
        "a,b= b,a\n"
      ],
      "metadata": {
        "id": "D8LexngfXqgU"
      },
      "execution_count": 6,
      "outputs": []
    },
    {
      "cell_type": "code",
      "source": [
        "a"
      ],
      "metadata": {
        "colab": {
          "base_uri": "https://localhost:8080/"
        },
        "id": "ZGx6IHMzXw2r",
        "outputId": "3c0b5b1b-d71a-4231-b924-4cdcc68a6167"
      },
      "execution_count": 7,
      "outputs": [
        {
          "output_type": "execute_result",
          "data": {
            "text/plain": [
              "18"
            ]
          },
          "metadata": {},
          "execution_count": 7
        }
      ]
    },
    {
      "cell_type": "code",
      "source": [
        "b"
      ],
      "metadata": {
        "colab": {
          "base_uri": "https://localhost:8080/"
        },
        "id": "KBH2mZ-GXyeZ",
        "outputId": "06a73c87-aab7-4ff5-ca3e-b786c17b5a1e"
      },
      "execution_count": 8,
      "outputs": [
        {
          "output_type": "execute_result",
          "data": {
            "text/plain": [
              "12"
            ]
          },
          "metadata": {},
          "execution_count": 8
        }
      ]
    },
    {
      "cell_type": "code",
      "source": [],
      "metadata": {
        "id": "iV0l5VnGX1K-"
      },
      "execution_count": null,
      "outputs": []
    },
    {
      "cell_type": "markdown",
      "source": [
        "Q) Write a python code to solve the quadratic eqaution?"
      ],
      "metadata": {
        "id": "HhmIk8yraY9t"
      }
    },
    {
      "cell_type": "code",
      "source": [
        "#quadratic equation = a *x**2+bx+c = 0 where a,b,c are coefficient and a is non zero\n",
        "#quadratic formula= -b + square root of b**2- 4ac/2a ,   -b -square root of b**2 - 4ac/2a\n"
      ],
      "metadata": {
        "id": "Z-nSB9kZajQS"
      },
      "execution_count": null,
      "outputs": []
    },
    {
      "cell_type": "code",
      "source": [
        "import cmath\n",
        "a= int(input(\"enter a value of a  where a is not equal to zero\"))\n",
        "b= int(input(\"enter a value of b\"))\n",
        "c= int(input(\"enter a vlaue of c\"))\n",
        "\n",
        "#d = discriminant\n",
        "d = (b**2)- 4*a*c\n",
        "value1= (-b-cmath.sqrt(d))/(2*a)\n",
        "value2= (-b +cmath.sqrt(d))/(2*a)\n",
        "print( \"solution is\",value1, value2)"
      ],
      "metadata": {
        "colab": {
          "base_uri": "https://localhost:8080/"
        },
        "id": "21Y_dvKbc3US",
        "outputId": "e0e2948f-4c0f-4e54-be90-15b327018905"
      },
      "execution_count": 11,
      "outputs": [
        {
          "output_type": "stream",
          "name": "stdout",
          "text": [
            "enter a value of a  where a is not equal to zero2\n",
            "enter a value of b5\n",
            "enter a vlaue of c10\n",
            "solution is (-1.25-1.8540496217739157j) (-1.25+1.8540496217739157j)\n"
          ]
        }
      ]
    },
    {
      "cell_type": "code",
      "source": [],
      "metadata": {
        "id": "oPmfVsMFeq6F"
      },
      "execution_count": null,
      "outputs": []
    }
  ]
}